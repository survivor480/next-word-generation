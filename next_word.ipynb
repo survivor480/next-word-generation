{
 "cells": [
  {
   "cell_type": "markdown",
   "metadata": {},
   "source": [
    "Data Visualization"
   ]
  },
  {
   "cell_type": "code",
   "execution_count": 2,
   "metadata": {},
   "outputs": [],
   "source": [
    "import pandas as pd\n",
    "\n",
    "book_list = pd.read_csv('archive/db_books.csv')\n",
    "stories = pd.read_csv('archive/stories.csv')"
   ]
  },
  {
   "cell_type": "code",
   "execution_count": 3,
   "metadata": {},
   "outputs": [
    {
     "data": {
      "text/html": [
       "<div>\n",
       "<style scoped>\n",
       "    .dataframe tbody tr th:only-of-type {\n",
       "        vertical-align: middle;\n",
       "    }\n",
       "\n",
       "    .dataframe tbody tr th {\n",
       "        vertical-align: top;\n",
       "    }\n",
       "\n",
       "    .dataframe thead th {\n",
       "        text-align: right;\n",
       "    }\n",
       "</style>\n",
       "<table border=\"1\" class=\"dataframe\">\n",
       "  <thead>\n",
       "    <tr style=\"text-align: right;\">\n",
       "      <th></th>\n",
       "      <th>bookno</th>\n",
       "      <th>Title</th>\n",
       "      <th>Author</th>\n",
       "      <th>Language</th>\n",
       "    </tr>\n",
       "  </thead>\n",
       "  <tbody>\n",
       "    <tr>\n",
       "      <th>0</th>\n",
       "      <td>51082.txt</td>\n",
       "      <td>Coming Attraction</td>\n",
       "      <td>Fritz Leiber</td>\n",
       "      <td>English</td>\n",
       "    </tr>\n",
       "    <tr>\n",
       "      <th>1</th>\n",
       "      <td>32243.txt</td>\n",
       "      <td>Confidence Game</td>\n",
       "      <td>James McKimmey</td>\n",
       "      <td>English</td>\n",
       "    </tr>\n",
       "    <tr>\n",
       "      <th>2</th>\n",
       "      <td>306-0.txt</td>\n",
       "      <td>The Early Short Fiction of Edith Wharton, Par...</td>\n",
       "      <td>Edith Wharton</td>\n",
       "      <td>English</td>\n",
       "    </tr>\n",
       "    <tr>\n",
       "      <th>3</th>\n",
       "      <td>31038.txt</td>\n",
       "      <td>The Real Hard Sell</td>\n",
       "      <td>William W Stuart</td>\n",
       "      <td>English</td>\n",
       "    </tr>\n",
       "    <tr>\n",
       "      <th>4</th>\n",
       "      <td>28636-8.txt</td>\n",
       "      <td>The Grey Woman and other Tales</td>\n",
       "      <td>Mrs. (Elizabeth) Gaskell</td>\n",
       "      <td>English</td>\n",
       "    </tr>\n",
       "    <tr>\n",
       "      <th>...</th>\n",
       "      <td>...</td>\n",
       "      <td>...</td>\n",
       "      <td>...</td>\n",
       "      <td>...</td>\n",
       "    </tr>\n",
       "    <tr>\n",
       "      <th>997</th>\n",
       "      <td>29487.txt</td>\n",
       "      <td>Forever</td>\n",
       "      <td>Robert Sheckley</td>\n",
       "      <td>English</td>\n",
       "    </tr>\n",
       "    <tr>\n",
       "      <th>998</th>\n",
       "      <td>56527-0.txt</td>\n",
       "      <td>In a Quiet Village</td>\n",
       "      <td>Sabine Baring-Gould</td>\n",
       "      <td>English</td>\n",
       "    </tr>\n",
       "    <tr>\n",
       "      <th>999</th>\n",
       "      <td>31218-8.txt</td>\n",
       "      <td>Flten und Dolche</td>\n",
       "      <td>Heinrich Mann</td>\n",
       "      <td>German</td>\n",
       "    </tr>\n",
       "    <tr>\n",
       "      <th>1000</th>\n",
       "      <td>33839.txt</td>\n",
       "      <td>Problem on Balak</td>\n",
       "      <td>Roger D. Aycock</td>\n",
       "      <td>English</td>\n",
       "    </tr>\n",
       "    <tr>\n",
       "      <th>1001</th>\n",
       "      <td>59376.txt</td>\n",
       "      <td>The Patriot</td>\n",
       "      <td>Charles L. Fontenay</td>\n",
       "      <td>English</td>\n",
       "    </tr>\n",
       "  </tbody>\n",
       "</table>\n",
       "<p>1002 rows × 4 columns</p>\n",
       "</div>"
      ],
      "text/plain": [
       "           bookno                                              Title  \\\n",
       "0       51082.txt                                  Coming Attraction   \n",
       "1       32243.txt                                    Confidence Game   \n",
       "2       306-0.txt   The Early Short Fiction of Edith Wharton, Par...   \n",
       "3       31038.txt                                 The Real Hard Sell   \n",
       "4     28636-8.txt                     The Grey Woman and other Tales   \n",
       "...           ...                                                ...   \n",
       "997     29487.txt                                            Forever   \n",
       "998   56527-0.txt                                 In a Quiet Village   \n",
       "999   31218-8.txt                                   Flten und Dolche   \n",
       "1000    33839.txt                                   Problem on Balak   \n",
       "1001    59376.txt                                        The Patriot   \n",
       "\n",
       "                         Author  Language  \n",
       "0                  Fritz Leiber   English  \n",
       "1                James McKimmey   English  \n",
       "2                 Edith Wharton   English  \n",
       "3              William W Stuart   English  \n",
       "4      Mrs. (Elizabeth) Gaskell   English  \n",
       "...                         ...       ...  \n",
       "997             Robert Sheckley   English  \n",
       "998         Sabine Baring-Gould   English  \n",
       "999               Heinrich Mann    German  \n",
       "1000            Roger D. Aycock   English  \n",
       "1001        Charles L. Fontenay   English  \n",
       "\n",
       "[1002 rows x 4 columns]"
      ]
     },
     "execution_count": 3,
     "metadata": {},
     "output_type": "execute_result"
    }
   ],
   "source": [
    "book_list"
   ]
  },
  {
   "cell_type": "code",
   "execution_count": null,
   "metadata": {},
   "outputs": [
    {
     "data": {
      "text/plain": [
       "'*** START OF THIS PROJECT GUTENBERG EBOOK COMING ATTRACTION ***\\n\\n\\n\\n\\n\\n\\n\\n\\n\\nProduced by Greg Weeks, Mary Meehan and the Online\\n\\nDistributed Proofreading Team at http://www.pgdp.net\\n\\n\\n\\n\\n\\n\\n\\n\\n\\n\\n\\n\\n\\n\\n\\n\\n\\n\\n\\n                           Coming Attraction\\n\\n\\n\\n                            BY FRITZ LEIBER\\n\\n\\n\\n                       Illustrated by Paul Calle\\n\\n\\n\\n           [Transcriber\\'s Note: This etext was produced from\\n\\n                 Galaxy Science Fiction November 1950.\\n\\n         Extensive research did not uncover any evidence that\\n\\n         the U.S. copyright on this publication was renewed.]\\n\\n\\n\\n\\n\\n\\n\\n\\n\\n           Women will always go on trying to attract men ...\\n\\n             even when the future seems to have no future!\\n\\n\\n\\n\\n\\nThe coupe with the fishhooks welded to the fender shouldered up over\\n\\nthe curb like the nose of a nightmare. The girl in its path stood\\n\\nfrozen, her face probably stiff with fright under her mask. For once my\\n\\nreflexes weren\\'t shy. I took a fast step toward her, grabbed her elbow,\\n\\nyanked her back. Her black skirt swirled out.\\n\\n\\n\\nThe big coupe shot by, its turbine humming. I glimpsed three faces.\\n\\nSomething ripped. I felt the hot exhaust on my ankles as the big\\n\\ncoupe swerved back into the street. A thick cloud like a black flower\\n\\nblossomed from its jouncing rear end, while from the fishhooks flew a\\n\\nblack shimmering rag.\\n\\n\\n\\n\"Did they get you?\" I asked the girl.\\n\\n\\n\\nShe had twisted around to look where the side of her skirt was torn\\n\\naway. She was wearing nylon tights.\\n\\n\\n\\n\"The hooks didn\\'t touch me,\" she said shakily. \"I guess I\\'m lucky.\"\\n\\n\\n\\nI heard voices around us:\\n\\n\\n\\n\"Those kids! What\\'ll they think up next?\"\\n\\n\\n\\n\"They\\'re a menace. They ought to be arrested.\"\\n\\n\\n\\nSirens screamed at a rising pitch as two motor-police, their\\n\\nrocket-assist jets full on, came whizzing toward us after the coupe.\\n\\nBut the black flower had become a thick fog obscuring the whole street.\\n\\nThe motor-police switched from rocket assists to rocket brakes and\\n\\nswerved to a stop near the smoke cloud.\\n\\n\\n\\n\"Are you English?\" the girl asked me. \"You have an English accent.\"\\n\\n\\n\\nHer voice came shudderingly from behind the sleek black satin mask.\\n\\nI fancied her teeth must be chattering. Eyes that were perhaps blue\\n\\nsearched my face from behind the black gauze covering the eyeholes of\\n\\nthe mask. I told her she\\'d guessed right. She stood close to me. \"Will\\n\\nyou come to my place tonight?\" she asked rapidly. \"I can\\'t thank you\\n\\nnow. And there\\'s something you can help me about.\"\\n\\n\\n\\nMy arm, still lightly circling her waist, felt her body trembling. I\\n\\nwas answering the plea in that as much as in her voice when I said,\\n\\n\"Certainly.\" She gave me an address south of Inferno, an apartment\\n\\nnumber and a time. She asked me my name and I told her.\\n\\n\\n\\n\"Hey, you!\"\\n\\n\\n\\nI turned obediently to the policeman\\'s shout. He shooed away the small\\n\\nclucking crowd of masked women and barefaced men. Coughing from the\\n\\nsmoke that the black coupe had thrown out, he asked for my papers. I\\n\\nhanded him the essential ones.\\n\\n\\n\\n       *       *       *       *       *\\n\\n\\n\\nHe looked at them and then at me. \"British Barter? How long will you be\\n\\nin New York?\"\\n\\n\\n\\nSuppressing the urge to say, \"For as short a time as possible,\" I told\\n\\nhim I\\'d be here for a week or so.\\n\\n\\n\\n\"May need you as a witness,\" he explained. \"Those kids can\\'t use smoke\\n\\non us. When they do that, we pull them in.\"\\n\\n\\n\\nHe seemed to think the smoke was the bad thing. \"They tried to kill the\\n\\nlady,\" I pointed out.\\n\\n\\n\\nHe shook his head wisely. \"They always pretend they\\'re going to, but\\n\\nactually they just want to snag skirts. I\\'ve picked up rippers with\\n\\nas many as fifty skirt-snags tacked up in their rooms. Of course,\\n\\nsometimes they come a little too close.\"\\n\\n\\n\\nI explained that if I hadn\\'t yanked her out of the way, she\\'d have been\\n\\nhit by more than hooks. But he interrupted, \"If she\\'d thought it was a\\n\\nreal murder attempt, she\\'d have stayed here.\"\\n\\n\\n\\nI looked around. It was true. She was gone.\\n\\n\\n\\n\"She was fearfully frightened,\" I told him.\\n\\n\\n\\n\"Who wouldn\\'t be? Those kids would have scared old Stalin himself.\"\\n\\n\\n\\n\"I mean frightened of more than \\'kids.\\' They didn\\'t look like \\'kids.\\'\"\\n\\n\\n\\n\"What did they look like?\"\\n\\n\\n\\nI tried without much success to describe the three faces. A vague\\n\\nimpression of viciousness and effeminacy doesn\\'t mean much.\\n\\n\\n\\n\"Well, I could be wrong,\" he said finally. \"Do you know the girl? Where\\n\\nshe lives?\"\\n\\n\\n\\n\"No,\" I half lied.\\n\\n\\n\\nThe other policeman hung up his radiophone and ambled toward us,\\n\\nkicking at the tendrils of dissipating smoke. The black cloud no longer\\n\\nhid the dingy facades with their five-year-old radiation flash-burns,\\n\\nand I could begin to make out the distant stump of the Empire State\\n\\nBuilding, thrusting up out of Inferno like a mangled finger.\\n\\n\\n\\n\"They haven\\'t been picked up so far,\" the approaching policeman\\n\\ngrumbled. \"Left smoke for five blocks, from what Ryan says.\"\\n\\n\\n\\nThe first policeman shook his head. \"That\\'s bad,\" he observed solemnly.\\n\\n\\n\\nI was feeling a bit uneasy and ashamed. An Englishman shouldn\\'t lie, at\\n\\nleast not on impulse.\\n\\n\\n\\n\"They sound like nasty customers,\" the first policeman continued in the\\n\\nsame grim tone. \"We\\'ll need witnesses. Looks as if you may have to stay\\n\\nin New York longer than you expect.\"\\n\\n\\n\\nI got the point. I said, \"I forgot to show you all my papers,\" and\\n\\nhanded him a few others, making sure there was a five dollar bill in\\n\\namong them.\\n\\n\\n\\n       *       *       *       *       *\\n\\n\\n\\nWhen he handed them back a bit later, his voice was no longer ominous.\\n\\nMy feelings of guilt vanished. To cement our relationship, I chatted\\n\\nwith the two of them about their job.\\n\\n\\n\\n\"I suppose the masks give you some trouble,\" I observed. \"Over in\\n\\nEngland we\\'ve been reading about your new crop of masked female\\n\\nbandits.\"\\n\\n\\n\\n\"Those things get exaggerated,\" the first policeman assured me. \"It\\'s\\n\\nthe men masking as women that really mix us up. But, brother, when we\\n\\nnab them, we jump on them with both feet.\"\\n\\n\\n\\n\"And you get so you can spot women almost as well as if they had naked\\n\\nfaces,\" the second policeman volunteered. \"You know, hands and all\\n\\nthat.\"\\n\\n\\n\\n\"Especially all that,\" the first agreed with a chuckle. \"Say, is it\\n\\ntrue that some girls don\\'t mask over in England?\"\\n\\n\\n\\n\"A number of them have picked up the fashion,\" I told him. \"Only a few,\\n\\nthough--the ones who always adopt the latest style, however extreme.\"\\n\\n\\n\\n\"They\\'re usually masked in the British newscasts.\"\\n\\n\\n\\n\"I imagine it\\'s arranged that way out of deference to American taste,\"\\n\\nI confessed. \"Actually, not very many do mask.\"\\n\\n\\n\\nThe second policeman considered that. \"Girls going down the street bare\\n\\nfrom the neck up.\" It was not clear whether he viewed the prospect with\\n\\nrelish or moral distaste. Likely both.\\n\\n\\n\\n\"A few members keep trying to persuade Parliament to enact a law\\n\\nforbidding all masking,\" I continued, talking perhaps a bit too much.\\n\\n\\n\\nThe second policeman shook his head. \"What an idea. You know, masks are\\n\\na pretty good thing, brother. Couple of years more and I\\'m going to\\n\\nmake my wife wear hers around the house.\"\\n\\n\\n\\nThe first policeman shrugged. \"If women were to stop wearing masks, in\\n\\nsix weeks you wouldn\\'t know the difference. You get used to anything,\\n\\nif enough people do or don\\'t do it.\"\\n\\n\\n\\nI agreed, rather regretfully, and left them. I turned north on Broadway\\n\\n(old Tenth Avenue, I believe) and walked rapidly until I was beyond\\n\\nInferno. Passing such an area of undecontaminated radioactivity always\\n\\nmakes a person queasy. I thanked God there weren\\'t any such in England,\\n\\nas yet.\\n\\n\\n\\nThe street was almost empty, though I was accosted by a couple of\\n\\nbeggars with faces tunneled by H-bomb scars, whether real or of makeup\\n\\nputty, I couldn\\'t tell. A fat woman held out a baby with webbed fingers\\n\\nand toes. I told myself it would have been deformed anyway and that she\\n\\nwas only capitalizing on our fear of bomb-induced mutations. Still,\\n\\nI gave her a seven-and-a-half-cent piece. Her mask made me feel I was\\n\\npaying tribute to an African fetish.\\n\\n\\n\\n\"May all your children be blessed with one head and two eyes, sir.\"\\n\\n\\n\\n\"Thanks,\" I said, shuddering, and hurried past her.\\n\\n\\n\\n\"... There\\'s only trash behind the mask, so turn your head, stick to\\n\\nyour task: Stay away, stay away--from--the--girls!\"\\n\\n\\n\\n       *       *       *       *       *\\n\\n\\n\\nThis last was the end of an anti-sex song being sung by some\\n\\nreligionists half a block from the circle-and-cross insignia of a\\n\\nfemalist temple. They reminded me only faintly of our small tribe\\n\\nof British monastics. Above their heads was a jumble of billboards\\n\\nadvertising predigested foods, wrestling instruction, radio handies and\\n\\nthe like.\\n\\n\\n\\nI stared at the hysterical slogans with disagreeable fascination. Since\\n\\nthe female face and form have been banned on American signs, the very\\n\\nletters of the advertiser\\'s alphabet have begun to crawl with sex--the\\n\\nfat-bellied, big-breasted capital B, the lascivious double O. However,\\n\\nI reminded myself, it is chiefly the mask that so strangely accents sex\\n\\nin America.\\n\\n\\n\\nA British anthropologist has pointed out, that, while it took more\\n\\nthan 5,000 years to shift the chief point of sexual interest from the\\n\\nhips to the breasts, the next transition to the face has taken less\\n\\nthan 50 years. Comparing the American style with Moslem tradition is\\n\\nnot valid; Moslem women are compelled to wear veils, the purpose of\\n\\nwhich is concealment, while American women have only the compulsion of\\n\\nfashion and use masks to create mystery.\\n\\n\\n\\nTheory aside, the actual origins of the trend are to be found in\\n\\nthe anti-radiation clothing of World War III, which led to masked\\n\\nwrestling, now a fantastically popular sport, and that in turn led to\\n\\nthe current female fashion. Only a wild style at first, masks quickly\\n\\nbecame as necessary as brassieres and lipsticks had been earlier in the\\n\\ncentury.\\n\\n\\n\\nI finally realized that I was not speculating about masks in general,\\n\\nbut about what lay behind one in particular. That\\'s the devil of the\\n\\nthings; you\\'re never sure whether a girl is heightening loveliness\\n\\nor hiding ugliness. I pictured a cool, pretty face in which fear\\n\\nshowed only in widened eyes. Then I remembered her blonde hair, rich\\n\\nagainst the blackness of the satin mask. She\\'d told me to come at the\\n\\ntwenty-second hour--ten p.m.\\n\\n\\n\\nI climbed to my apartment near the British Consulate; the elevator\\n\\nshaft had been shoved out of plumb by an old blast, a nuisance in these\\n\\ntall New York buildings. Before it occurred to me that I would be\\n\\ngoing out again, I automatically tore a tab from the film strip under\\n\\nmy shirt. I developed it just to be sure. It showed that the total\\n\\nradiation I\\'d taken that day was still within the safety limit. I\\'m\\n\\nnot phobic about it, as so many people are these days, but there\\'s no\\n\\npoint in taking chances.\\n\\n\\n\\nI flopped down on the day bed and stared at the silent speaker and the\\n\\ndark screen of the video set. As always, they made me think, somewhat\\n\\nbitterly, of the two great nations of the world. Mutilated by each\\n\\nother, yet still strong, they were crippled giants poisoning the planet\\n\\nwith their dreams of an impossible equality and an impossible success.\\n\\n\\n\\nI fretfully switched on the speaker. By luck, the newscaster was\\n\\ntalking excitedly of the prospects of a bumper wheat crop, sown by\\n\\nplanes across a dust bowl moistened by seeded rains. I listened\\n\\ncarefully to the rest of the program (it was remarkably clear of\\n\\nRussian telejamming) but there was no further news of interest to\\n\\nme. And, of course, no mention of the Moon, though everyone knows\\n\\nthat America and Russia are racing to develop their primary bases\\n\\ninto fortresses capable of mutual assault and the launching of\\n\\nalphabet-bombs toward Earth. I myself knew perfectly well that the\\n\\nBritish electronic equipment I was helping trade for American wheat was\\n\\ndestined for use in spaceships.\\n\\n\\n\\n       *       *       *       *       *\\n\\n\\n\\nI switched off the newscast. It was growing dark and once again I\\n\\npictured a tender, frightened face behind a mask. I hadn\\'t had a date\\n\\nsince England. It\\'s exceedingly difficult to become acquainted with a\\n\\ngirl in America, where as little as a smile, often, can set one of them\\n\\nyelping for the police--to say nothing of the increasing puritanical\\n\\nmorality and the roving gangs that keep most women indoors after dark.\\n\\nAnd naturally, the masks which are definitely not, as the Soviets\\n\\nclaim, a last invention of capitalist degeneracy, but a sign of great\\n\\npsychological insecurity. The Russians have no masks, but they have\\n\\ntheir own signs of stress.\\n\\n\\n\\nI went to the window and impatiently watched the darkness gather. I was\\n\\ngetting very restless. After a while a ghostly violet cloud appeared to\\n\\nthe south. My hair rose. Then I laughed. I had momentarily fancied it a\\n\\nradiation from the crater of the Hell-bomb, though I should instantly\\n\\nhave known it was only the radio-induced glow in the sky over the\\n\\namusement and residential area south of Inferno.\\n\\n\\n\\nPromptly at twenty-two hours I stood before the door of my unknown girl\\n\\nfriend\\'s apartment. The electronic say-who-please said just that. I\\n\\nanswered clearly, \"Wysten Turner,\" wondering if she\\'d given my name to\\n\\nthe mechanism. She evidently had, for the door opened. I walked into a\\n\\nsmall empty living room, my heart pounding a bit.\\n\\n\\n\\nThe room was expensively furnished with the latest pneumatic hassocks\\n\\nand sprawlers. There were some midgie books on the table. The one I\\n\\npicked up was the standard hard-boiled detective story in which two\\n\\nfemale murderers go gunning for each other.\\n\\n\\n\\nThe television was on. A masked girl in green was crooning a love song.\\n\\nHer right hand held something that blurred off into the foreground.\\n\\nI saw the set had a handie, which we haven\\'t in England as yet, and\\n\\ncuriously thrust my hand into the handie orifice beside the screen.\\n\\nContrary to my expectations, it was not like slipping into a pulsing\\n\\nrubber glove, but rather as if the girl on the screen actually held my\\n\\nhand.\\n\\n\\n\\nA door opened behind me. I jerked out my hand with as guilty a reaction\\n\\nas if I\\'d been caught peering through a keyhole.\\n\\n\\n\\nShe stood in the bedroom doorway. I think she was trembling. She was\\n\\nwearing a gray fur coat, white-speckled, and a gray velvet evening\\n\\nmask with shirred gray lace around the eyes and mouth. Her fingernails\\n\\ntwinkled like silver.\\n\\n\\n\\nIt hadn\\'t occurred to me that she\\'d expect us to go out.\\n\\n\\n\\n\"I should have told you,\" she said softly. Her mask veered nervously\\n\\ntoward the books and the screen and the room\\'s dark corners. \"But I\\n\\ncan\\'t possibly talk to you here.\"\\n\\n\\n\\nI said doubtfully, \"There\\'s a place near the Consulate....\"\\n\\n\\n\\n\"I know where we can be together and talk,\" she said rapidly. \"If you\\n\\ndon\\'t mind.\"\\n\\n\\n\\nAs we entered the elevator I said, \"I\\'m afraid I dismissed the cab.\"\\n\\n\\n\\n       *       *       *       *       *\\n\\n\\n\\nBut the cab driver hadn\\'t gone for some reason of his own. He jumped\\n\\nout and smirkingly held the front door open for us. I told him we\\n\\npreferred to sit in back. He sulkily opened the rear door, slammed it\\n\\nafter us, jumped in front and slammed the door behind him.\\n\\n\\n\\nMy companion leaned forward. \"Heaven,\" she said.\\n\\n\\n\\nThe driver switched on the turbine and televisor.\\n\\n\\n\\n\"Why did you ask if I were a British subject?\" I said, to start the\\n\\nconversation.\\n\\n\\n\\nShe leaned away from me, tilting her mask close to the window. \"See the\\n\\nMoon,\" she said in a quick, dreamy voice.\\n\\n\\n\\n\"But why, really?\" I pressed, conscious of an irritation that had\\n\\nnothing to do with her.\\n\\n\\n\\n\"It\\'s edging up into the purple of the sky.\"\\n\\n\\n\\n\"And what\\'s your name?\"\\n\\n\\n\\n\"The purple makes it look yellower.\"\\n\\n\\n\\n       *       *       *       *       *\\n\\n\\n\\nJust then I became aware of the source of my irritation. It lay in the\\n\\nsquare of writhing light in the front of the cab beside the driver.\\n\\n\\n\\nI don\\'t object to ordinary wrestling matches, though they bore me, but\\n\\nI simply detest watching a man wrestle a woman. The fact that the bouts\\n\\nare generally \"on the level,\" with the man greatly outclassed in weight\\n\\nand reach and the masked females young and personable, only makes them\\n\\nseem worse to me.\\n\\n\\n\\n\"Please turn off the screen,\" I requested the driver.\\n\\n\\n\\nHe shook his head without looking around. \"Uh-uh, man,\" he said.\\n\\n\"They\\'ve been grooming that babe for weeks for this bout with Little\\n\\nZirk.\"\\n\\n\\n\\nInfuriated, I reached forward, but my companion caught my arm.\\n\\n\"Please,\" she whispered frightenedly, shaking her head.\\n\\n\\n\\nI settled back, frustrated. She was closer to me now, but silent and\\n\\nfor a few moments I watched the heaves and contortions of the powerful\\n\\nmasked girl and her wiry masked opponent on the screen. His frantic\\n\\nscrambling at her reminded me of a male spider.\\n\\n\\n\\nI jerked around, facing my companion. \"Why did those three men want to\\n\\nkill you?\" I asked sharply.\\n\\n\\n\\nThe eyeholes of her mask faced the screen. \"Because they\\'re jealous of\\n\\nme,\" she whispered.\\n\\n\\n\\n\"Why are they jealous?\"\\n\\n\\n\\nShe still didn\\'t look at me. \"Because of him.\"\\n\\n\\n\\n\"Who?\"\\n\\n\\n\\nShe didn\\'t answer.\\n\\n\\n\\nI put my arm around her shoulders. \"Are you afraid to tell me?\" I\\n\\nasked. \"What _is_ the matter?\"\\n\\n\\n\\nShe still didn\\'t look my way. She smelled nice.\\n\\n\\n\\n\"See here,\" I said laughingly, changing my tactics, \"you really should\\n\\ntell me something about yourself. I don\\'t even know what you look like.\"\\n\\n\\n\\nI half playfully lifted my hand to the band of her neck. She gave it an\\n\\nastonishingly swift slap. I pulled it away in sudden pain. There were\\n\\nfour tiny indentations on the back. From one of them a tiny bead of\\n\\nblood welled out as I watched. I looked at her silver fingernails and\\n\\nsaw they were actually delicate and pointed metal caps.\\n\\n\\n\\n\"I\\'m dreadfully sorry,\" I heard her say, \"but you frightened me. I\\n\\nthought for a moment you were going to....\"\\n\\n\\n\\nAt last she turned to me. Her coat had fallen open. Her evening dress\\n\\nwas Cretan Revival, a bodice of lace beneath and supporting the breasts\\n\\nwithout covering them.\\n\\n\\n\\n\"Don\\'t be angry,\" she said, putting her arms around my neck. \"You were\\n\\nwonderful this afternoon.\"\\n\\n\\n\\nThe soft gray velvet of her mask, molding itself to her cheek, pressed\\n\\nmine. Through the mask\\'s lace the wet warm tip of her tongue touched my\\n\\nchin.\\n\\n\\n\\n\"I\\'m not angry,\" I said. \"Just puzzled and anxious to help.\"\\n\\n\\n\\nThe cab stopped. To either side were black windows bordered by spears\\n\\nof broken glass. The sickly purple light showed a few ragged figures\\n\\nslowly moving toward us.\\n\\n\\n\\nThe driver muttered, \"It\\'s the turbine, man. We\\'re grounded.\" He sat\\n\\nthere hunched and motionless. \"Wish it had happened somewhere else.\"\\n\\n\\n\\nMy companion whispered, \"Five dollars is the usual amount.\"\\n\\n\\n\\nShe looked out so shudderingly at the congregating figures that I\\n\\nsuppressed my indignation and did as she suggested. The driver took the\\n\\nbill without a word. As he started up, he put his hand out the window\\n\\nand I heard a few coins clink on the pavement.\\n\\n\\n\\nMy companion came back into my arms, but her mask faced the television\\n\\nscreen, where the tall girl had just pinned the convulsively kicking\\n\\nLittle Zirk.\\n\\n\\n\\n\"I\\'m so frightened,\" she breathed.\\n\\n\\n\\n       *       *       *       *       *\\n\\n\\n\\nHeaven turned out to be an equally ruinous neighborhood, but it had a\\n\\nclub with an awning and a huge doorman uniformed like a spaceman, but\\n\\nin gaudy colors. In my sensuous daze I rather liked it all. We stepped\\n\\nout of the cab just as a drunken old woman came down the sidewalk,\\n\\nher mask awry. A couple ahead of us turned their heads from the half\\n\\nrevealed face, as if from an ugly body at the beach. As we followed\\n\\nthem in I heard the doorman say, \"Get along, grandma, and watch\\n\\nyourself.\"\\n\\n\\n\\nInside, everything was dimness and blue glows. She had said we could\\n\\ntalk here, but I didn\\'t see how. Besides the inevitable chorus of\\n\\nsneezes and coughs (they say America is fifty per cent allergic\\n\\nthese days), there was a band going full blast in the latest robop\\n\\nstyle, in which an electronic composing machine selects an arbitrary\\n\\nsequence of tones into which the musicians weave their raucous little\\n\\nindividualities.\\n\\n\\n\\nMost of the people were in booths. The band was behind the bar. On a\\n\\nsmall platform beside them, a girl was dancing, stripped to her mask.\\n\\nThe little cluster of men at the shadowy far end of the bar weren\\'t\\n\\nlooking at her.\\n\\n\\n\\nWe inspected the menu in gold script on the wall and pushed the buttons\\n\\nfor breast of chicken, fried shrimps and two scotches. Moments later,\\n\\nthe serving bell tinkled. I opened the gleaming panel and took out our\\n\\ndrinks.\\n\\n\\n\\n       *       *       *       *       *\\n\\n\\n\\nThe cluster of men at the bar filed off toward the door, but first they\\n\\nstared around the room. My companion had just thrown back her coat.\\n\\nTheir look lingered on our booth. I noticed that there were three of\\n\\nthem.\\n\\n\\n\\nThe band chased off the dancing girl with growls. I handed my companion\\n\\na straw and we sipped our drinks.\\n\\n\\n\\n\"You wanted me to help you about something,\" I said. \"Incidentally, I\\n\\nthink you\\'re lovely.\"\\n\\n\\n\\nShe nodded quick thanks, looked around, leaned forward. \"Would it be\\n\\nhard for me to get to England?\"\\n\\n\\n\\n\"No,\" I replied, a bit taken aback. \"Provided you have an American\\n\\npassport.\"\\n\\n\\n\\n\"Are they difficult to get?\"\\n\\n\\n\\n\"Rather,\" I said, surprised at her lack of information. \"Your country\\n\\ndoesn\\'t like its nationals to travel, though it isn\\'t quite as\\n\\nstringent as Russia.\"\\n\\n\\n\\n\"Could the British Consulate help me get a passport?\"\\n\\n\\n\\n\"It\\'s hardly their....\"\\n\\n\\n\\n\"Could you?\"\\n\\n\\n\\nI realized we were being inspected. A man and two girls had paused\\n\\nopposite our table. The girls were tall and wolfish-looking, with\\n\\nspangled masks. The man stood jauntily between them like a fox on its\\n\\nhind legs.\\n\\n\\n\\nMy companion didn\\'t glance at them, but she sat back. I noticed that\\n\\none of the girls had a big yellow bruise on her forearm. After a moment\\n\\nthey walked to a booth in the deep shadows.\\n\\n\\n\\n\"Know them?\" I asked. She didn\\'t reply. I finished my drink. \"I\\'m not\\n\\nsure you\\'d like England,\" I said. \"The austerity\\'s altogether different\\n\\nfrom your American brand of misery.\"\\n\\n\\n\\nShe leaned forward again. \"But I must get away,\" she whispered.\\n\\n\\n\\n\"Why?\" I was getting impatient.\\n\\n\\n\\n\"Because I\\'m so frightened.\"\\n\\n\\n\\nThere were chimes. I opened the panel and handed her the fried shrimps.\\n\\nThe sauce on my breast of chicken was a delicious steaming compound of\\n\\nalmonds, soy and ginger. But something must have been wrong with the\\n\\nradionic oven that had thawed and heated it, for at the first bite I\\n\\ncrunched a kernel of ice in the meat. These delicate mechanisms need\\n\\nconstant repair and there aren\\'t enough mechanics.\\n\\n\\n\\nI put down my fork. \"What are you really scared of?\" I asked her.\\n\\n\\n\\nFor once her mask didn\\'t waver away from my face. As I waited I\\n\\ncould feel the fears gathering without her naming them, tiny dark\\n\\nshapes swarming through the curved night outside, converging on the\\n\\nradioactive pest spot of New York, dipping into the margins of the\\n\\npurple. I felt a sudden rush of sympathy, a desire to protect the\\n\\ngirl opposite me. The warm feeling added itself to the infatuation\\n\\nengendered in the cab.\\n\\n\\n\\n\"Everything,\" she said finally.\\n\\n\\n\\nI nodded and touched her hand.\\n\\n\\n\\n\"I\\'m afraid of the Moon,\" she began, her voice going dreamy and brittle\\n\\nas it had in the cab. \"You can\\'t look at it and not think of guided\\n\\nbombs.\"\\n\\n\\n\\n\"It\\'s the same Moon over England,\" I reminded her.\\n\\n\\n\\n\"But it\\'s not England\\'s Moon any more. It\\'s ours and Russia\\'s. You\\'re\\n\\nnot responsible.\"\\n\\n\\n\\nI pressed her hand.\\n\\n\\n\\n\"Oh, and then,\" she said with a tilt of her mask, \"I\\'m afraid of the\\n\\ncars and the gangs and the loneliness and Inferno. I\\'m afraid of the\\n\\nlust that undresses your face. And--\" her voice hushed--\"I\\'m afraid of\\n\\nthe wrestlers.\"\\n\\n\\n\\n\"Yes?\" I prompted softly after a moment.\\n\\n\\n\\n       *       *       *       *       *\\n\\n\\n\\nHer mask came forward. \"Do you know something about the wrestlers?\" she\\n\\nasked rapidly. \"The ones that wrestle women, I mean. They often lose,\\n\\nyou know. And then they have to have a girl to take their frustration\\n\\nout on. A girl who\\'s soft and weak and terribly frightened. They need\\n\\nthat, to keep them men. Other men don\\'t want them to have a girl.\\n\\nOther men want them just to fight women and be heroes. But they must\\n\\nhave a girl. It\\'s horrible for her.\"\\n\\n\\n\\nI squeezed her fingers tighter, as if courage could be\\n\\ntransmitted--granting I had any. \"I think I can get you to England,\" I\\n\\nsaid.\\n\\n\\n\\nShadows crawled onto the table and stayed there. I looked up at the\\n\\nthree men who had been at the end of the bar. They were the men I had\\n\\nseen in the big coupe. They wore black sweaters and close-fitting black\\n\\ntrousers. Their faces were as expressionless as dopers. Two of them\\n\\nstood above me. The other loomed over the girl.\\n\\n\\n\\n\"Drift off, man,\" I was told. I heard the other inform the girl:\\n\\n\"We\\'ll wrestle a fall, sister. What shall it be? Judo, slapsie or\\n\\nkill-who-can?\"\\n\\n\\n\\nI stood up. There are times when an Englishman simply must be\\n\\nmal-treated. But just then the foxlike man came gliding in like the\\n\\nstar of a ballet. The reaction of the other three startled me. They\\n\\nwere acutely embarrassed.\\n\\n\\n\\nHe smiled at them thinly. \"You won\\'t win my favor by tricks like this,\"\\n\\nhe said.\\n\\n\\n\\n\"Don\\'t get the wrong idea, Zirk,\" one of them pleaded.\\n\\n\\n\\n\"I will if it\\'s right,\" he said. \"She told me what you tried to do this\\n\\nafternoon. That won\\'t endear you to me, either. Drift.\"\\n\\n\\n\\nThey backed off awkwardly. \"Let\\'s get out of here,\" one of them said\\n\\nloudly, as they turned. \"I know a place where they fight naked with\\n\\nknives.\"\\n\\n\\n\\n       *       *       *       *       *\\n\\n\\n\\nLittle Zirk laughed musically and slipped into the seat beside my\\n\\ncompanion. She shrank from him, just a little. I pushed my feet back,\\n\\nleaned forward.\\n\\n\\n\\n\"Who\\'s your friend, baby?\" he asked, not looking at her.\\n\\n\\n\\nShe passed the question to me with a little gesture. I told him.\\n\\n\\n\\n\"British,\" he observed. \"She\\'s been asking you about getting out of the\\n\\ncountry? About passports?\" He smiled pleasantly. \"She likes to start\\n\\nrunning away. Don\\'t you, baby?\" His small hand began to stroke her\\n\\nwrist, the fingers bent a little, the tendons ridged, as if he were\\n\\nabout to grab and twist.\\n\\n\\n\\n\"Look here,\" I said sharply. \"I have to be grateful to you for ordering\\n\\noff those bullies, but--\"\\n\\n\\n\\n\"Think nothing of it,\" he told me. \"They\\'re no harm except when they\\'re\\n\\nbehind steering wheels. A well-trained fourteen-year-old girl could\\n\\ncripple any one of them. Why, even Theda here, if she went in for that\\n\\nsort of thing....\" He turned to her, shifting his hand from her wrist\\n\\nto her hair. He stroked it, letting the strands slip slowly through his\\n\\nfingers. \"You know I lost tonight, baby, don\\'t you?\" he said softly.\\n\\n\\n\\nI stood up. \"Come along,\" I said to her. \"Let\\'s leave.\"\\n\\n\\n\\n       *       *       *       *       *\\n\\n\\n\\nShe just sat there. I couldn\\'t even tell if she was trembling. I tried\\n\\nto read a message in her eyes through the mask.\\n\\n\\n\\n\"I\\'ll take you away,\" I said to her. \"I can do it. I really will.\"\\n\\n\\n\\nHe smiled at me. \"She\\'d like to go with you,\" he said. \"Wouldn\\'t you,\\n\\nbaby?\"\\n\\n\\n\\n\"Will you or won\\'t you?\" I said to her. She still just sat there.\\n\\n\\n\\nHe slowly knotted his fingers in her hair.\\n\\n\\n\\n\"Listen, you little vermin,\" I snapped at him, \"Take your hands off\\n\\nher.\"\\n\\n\\n\\nHe came up from the seat like a snake. I\\'m no fighter. I just know that\\n\\nthe more scared I am, the harder and straighter I hit. This time I was\\n\\nlucky. But as he crumpled back, I felt a slap and four stabs of pain in\\n\\nmy cheek. I clapped my hand to it. I could feel the four gashes made by\\n\\nher dagger finger caps, and the warm blood oozing out from them.\\n\\n\\n\\nShe didn\\'t look at me. She was bending over little Zirk and cuddling\\n\\nher mask to his cheek and crooning: \"There, there, don\\'t feel bad,\\n\\nyou\\'ll be able to hurt me afterward.\"\\n\\n\\n\\nThere were sounds around us, but they didn\\'t come close. I leaned\\n\\nforward and ripped the mask from her face.\\n\\n\\n\\nI really don\\'t know why I should have expected her face to be anything\\n\\nelse. It was very pale, of course, and there weren\\'t any cosmetics. I\\n\\nsuppose there\\'s no point in wearing any under a mask. The eye-brows\\n\\nwere untidy and the lips chapped. But as for the general expression, as\\n\\nfor the feelings crawling and wriggling across it--\\n\\n\\n\\nHave you ever lifted a rock from damp soil? Have you ever watched the\\n\\nslimy white grubs?\\n\\n\\n\\nI looked down at her, she up at me. \"Yes, you\\'re so frightened, aren\\'t\\n\\nyou?\" I said sarcastically. \"You dread this little nightly drama, don\\'t\\n\\nyou? You\\'re scared to death.\"\\n\\n\\n\\nAnd I walked right out into the purple night, still holding my hand\\n\\nto my bleeding cheek. No one stopped me, not even the girl wrestlers.\\n\\nI wished I could tear a tab from under my shirt, and test it then and\\n\\nthere, and find I\\'d taken too much radiation, and so be able to ask to\\n\\ncross the Hudson and go down New Jersey, past the lingering radiance of\\n\\nthe Narrows Bomb, and so on to Sandy Hook to wait for the rusty ship\\n\\nthat would take me back over the seas to England.\\n\\n\\n\\n\\n\\n\\n\\n\\n\\n\\n\\nEnd of the Project Gutenberg EBook of Coming Attraction, by Fritz Leiber\\n\\n\\n\\n'"
      ]
     },
     "execution_count": 7,
     "metadata": {},
     "output_type": "execute_result"
    }
   ],
   "source": [
    "print(stories['content'][0])"
   ]
  },
  {
   "cell_type": "code",
   "execution_count": null,
   "metadata": {},
   "outputs": [],
   "source": []
  }
 ],
 "metadata": {
  "kernelspec": {
   "display_name": "venv",
   "language": "python",
   "name": "python3"
  },
  "language_info": {
   "codemirror_mode": {
    "name": "ipython",
    "version": 3
   },
   "file_extension": ".py",
   "mimetype": "text/x-python",
   "name": "python",
   "nbconvert_exporter": "python",
   "pygments_lexer": "ipython3",
   "version": "3.12.3"
  }
 },
 "nbformat": 4,
 "nbformat_minor": 2
}
