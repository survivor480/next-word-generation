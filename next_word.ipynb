{
 "cells": [
  {
   "cell_type": "markdown",
   "metadata": {},
   "source": [
    "Data Visualization"
   ]
  },
  {
   "cell_type": "code",
   "execution_count": 2,
   "metadata": {},
   "outputs": [],
   "source": [
    "import pandas as pd\n",
    "\n",
    "book_list = pd.read_csv('archive/db_books.csv')\n",
    "stories = pd.read_csv('archive/stories.csv')"
   ]
  },
  {
   "cell_type": "code",
   "execution_count": 3,
   "metadata": {},
   "outputs": [
    {
     "data": {
      "text/html": [
       "<div>\n",
       "<style scoped>\n",
       "    .dataframe tbody tr th:only-of-type {\n",
       "        vertical-align: middle;\n",
       "    }\n",
       "\n",
       "    .dataframe tbody tr th {\n",
       "        vertical-align: top;\n",
       "    }\n",
       "\n",
       "    .dataframe thead th {\n",
       "        text-align: right;\n",
       "    }\n",
       "</style>\n",
       "<table border=\"1\" class=\"dataframe\">\n",
       "  <thead>\n",
       "    <tr style=\"text-align: right;\">\n",
       "      <th></th>\n",
       "      <th>bookno</th>\n",
       "      <th>Title</th>\n",
       "      <th>Author</th>\n",
       "      <th>Language</th>\n",
       "    </tr>\n",
       "  </thead>\n",
       "  <tbody>\n",
       "    <tr>\n",
       "      <th>0</th>\n",
       "      <td>51082.txt</td>\n",
       "      <td>Coming Attraction</td>\n",
       "      <td>Fritz Leiber</td>\n",
       "      <td>English</td>\n",
       "    </tr>\n",
       "    <tr>\n",
       "      <th>1</th>\n",
       "      <td>32243.txt</td>\n",
       "      <td>Confidence Game</td>\n",
       "      <td>James McKimmey</td>\n",
       "      <td>English</td>\n",
       "    </tr>\n",
       "    <tr>\n",
       "      <th>2</th>\n",
       "      <td>306-0.txt</td>\n",
       "      <td>The Early Short Fiction of Edith Wharton, Par...</td>\n",
       "      <td>Edith Wharton</td>\n",
       "      <td>English</td>\n",
       "    </tr>\n",
       "    <tr>\n",
       "      <th>3</th>\n",
       "      <td>31038.txt</td>\n",
       "      <td>The Real Hard Sell</td>\n",
       "      <td>William W Stuart</td>\n",
       "      <td>English</td>\n",
       "    </tr>\n",
       "    <tr>\n",
       "      <th>4</th>\n",
       "      <td>28636-8.txt</td>\n",
       "      <td>The Grey Woman and other Tales</td>\n",
       "      <td>Mrs. (Elizabeth) Gaskell</td>\n",
       "      <td>English</td>\n",
       "    </tr>\n",
       "    <tr>\n",
       "      <th>...</th>\n",
       "      <td>...</td>\n",
       "      <td>...</td>\n",
       "      <td>...</td>\n",
       "      <td>...</td>\n",
       "    </tr>\n",
       "    <tr>\n",
       "      <th>997</th>\n",
       "      <td>29487.txt</td>\n",
       "      <td>Forever</td>\n",
       "      <td>Robert Sheckley</td>\n",
       "      <td>English</td>\n",
       "    </tr>\n",
       "    <tr>\n",
       "      <th>998</th>\n",
       "      <td>56527-0.txt</td>\n",
       "      <td>In a Quiet Village</td>\n",
       "      <td>Sabine Baring-Gould</td>\n",
       "      <td>English</td>\n",
       "    </tr>\n",
       "    <tr>\n",
       "      <th>999</th>\n",
       "      <td>31218-8.txt</td>\n",
       "      <td>Flten und Dolche</td>\n",
       "      <td>Heinrich Mann</td>\n",
       "      <td>German</td>\n",
       "    </tr>\n",
       "    <tr>\n",
       "      <th>1000</th>\n",
       "      <td>33839.txt</td>\n",
       "      <td>Problem on Balak</td>\n",
       "      <td>Roger D. Aycock</td>\n",
       "      <td>English</td>\n",
       "    </tr>\n",
       "    <tr>\n",
       "      <th>1001</th>\n",
       "      <td>59376.txt</td>\n",
       "      <td>The Patriot</td>\n",
       "      <td>Charles L. Fontenay</td>\n",
       "      <td>English</td>\n",
       "    </tr>\n",
       "  </tbody>\n",
       "</table>\n",
       "<p>1002 rows × 4 columns</p>\n",
       "</div>"
      ],
      "text/plain": [
       "           bookno                                              Title  \\\n",
       "0       51082.txt                                  Coming Attraction   \n",
       "1       32243.txt                                    Confidence Game   \n",
       "2       306-0.txt   The Early Short Fiction of Edith Wharton, Par...   \n",
       "3       31038.txt                                 The Real Hard Sell   \n",
       "4     28636-8.txt                     The Grey Woman and other Tales   \n",
       "...           ...                                                ...   \n",
       "997     29487.txt                                            Forever   \n",
       "998   56527-0.txt                                 In a Quiet Village   \n",
       "999   31218-8.txt                                   Flten und Dolche   \n",
       "1000    33839.txt                                   Problem on Balak   \n",
       "1001    59376.txt                                        The Patriot   \n",
       "\n",
       "                         Author  Language  \n",
       "0                  Fritz Leiber   English  \n",
       "1                James McKimmey   English  \n",
       "2                 Edith Wharton   English  \n",
       "3              William W Stuart   English  \n",
       "4      Mrs. (Elizabeth) Gaskell   English  \n",
       "...                         ...       ...  \n",
       "997             Robert Sheckley   English  \n",
       "998         Sabine Baring-Gould   English  \n",
       "999               Heinrich Mann    German  \n",
       "1000            Roger D. Aycock   English  \n",
       "1001        Charles L. Fontenay   English  \n",
       "\n",
       "[1002 rows x 4 columns]"
      ]
     },
     "execution_count": 3,
     "metadata": {},
     "output_type": "execute_result"
    }
   ],
   "source": [
    "book_list"
   ]
  },
  {
   "cell_type": "markdown",
   "metadata": {},
   "source": [
    "Data Cleaning : Creating a list of stories"
   ]
  },
  {
   "cell_type": "code",
   "execution_count": 4,
   "metadata": {},
   "outputs": [],
   "source": [
    "story_arrays = stories['content'].to_numpy()"
   ]
  },
  {
   "cell_type": "code",
   "execution_count": 5,
   "metadata": {},
   "outputs": [],
   "source": [
    "import re\n",
    "\n",
    "# function to remove urls embeded in the texts\n",
    "def remove_urls(text):\n",
    "    url_pattern = re.compile(r'http[s]?://(?:[a-zA-Z]|[0-9]|[$-_@.&+]|[!*\\\\(\\\\),]|(?:%[0-9a-fA-F][0-9a-fA-F]))+')\n",
    "    return url_pattern.sub(r'', text)\n",
    "\n",
    "# function to remove special characters\n",
    "def remove_special_characters(input_string):\n",
    "    return re.sub(r'[^A-Za-z0-9 ]+', '', input_string)"
   ]
  },
  {
   "cell_type": "code",
   "execution_count": 6,
   "metadata": {},
   "outputs": [],
   "source": [
    "# cleaning the dataset of special characters particularly newline characters\n",
    "\n",
    "for i in range(len(story_arrays)):\n",
    "    story_arrays[i] = remove_urls(story_arrays[i])\n",
    "    story_arrays[i] = remove_special_characters(story_arrays[i])\n",
    "    story_arrays[i] = story_arrays[i].split(' ')\n",
    "\n",
    "    # removing empty strings and converting to lowercase\n",
    "    story_arrays[i] = [x.lower() for x in story_arrays[i] if x!='']\n",
    "    story_arrays[i] = ' '.join(story_arrays[i])"
   ]
  },
  {
   "cell_type": "code",
   "execution_count": 7,
   "metadata": {},
   "outputs": [
    {
     "data": {
      "text/plain": [
       "'start of this project gutenberg ebook coming attraction produced by greg weeks mary meehan and the onlinedistributed proofreading team at coming attraction by fritz leiber illustrated by paul calle transcribers note this etext was produced from galaxy science fiction november 1950 extensive research did not uncover any evidence that the us copyright on this publication was renewed women will always go on trying to attract men even when the future seems to have no futurethe coupe with the fishhooks welded to the fender shouldered up overthe curb like the nose of a nightmare the girl in its path stoodfrozen her face probably stiff with fright under her mask for once myreflexes werent shy i took a fast step toward her grabbed her elbowyanked her back her black skirt swirled outthe big coupe shot by its turbine humming i glimpsed three facessomething ripped i felt the hot exhaust on my ankles as the bigcoupe swerved back into the street a thick cloud like a black flowerblossomed from its jouncing rear end while from the fishhooks flew ablack shimmering ragdid they get you i asked the girlshe had twisted around to look where the side of her skirt was tornaway she was wearing nylon tightsthe hooks didnt touch me she said shakily i guess im luckyi heard voices around usthose kids whatll they think up nexttheyre a menace they ought to be arrestedsirens screamed at a rising pitch as two motorpolice theirrocketassist jets full on came whizzing toward us after the coupebut the black flower had become a thick fog obscuring the whole streetthe motorpolice switched from rocket assists to rocket brakes andswerved to a stop near the smoke cloudare you english the girl asked me you have an english accenther voice came shudderingly from behind the sleek black satin maski fancied her teeth must be chattering eyes that were perhaps bluesearched my face from behind the black gauze covering the eyeholes ofthe mask i told her shed guessed right she stood close to me willyou come to my place tonight she asked rapidly i cant thank younow and theres something you can help me aboutmy arm still lightly circling her waist felt her body trembling iwas answering the plea in that as much as in her voice when i saidcertainly she gave me an address south of inferno an apartmentnumber and a time she asked me my name and i told herhey youi turned obediently to the policemans shout he shooed away the smallclucking crowd of masked women and barefaced men coughing from thesmoke that the black coupe had thrown out he asked for my papers ihanded him the essential ones he looked at them and then at me british barter how long will you bein new yorksuppressing the urge to say for as short a time as possible i toldhim id be here for a week or somay need you as a witness he explained those kids cant use smokeon us when they do that we pull them inhe seemed to think the smoke was the bad thing they tried to kill thelady i pointed outhe shook his head wisely they always pretend theyre going to butactually they just want to snag skirts ive picked up rippers withas many as fifty skirtsnags tacked up in their rooms of coursesometimes they come a little too closei explained that if i hadnt yanked her out of the way shed have beenhit by more than hooks but he interrupted if shed thought it was areal murder attempt shed have stayed herei looked around it was true she was goneshe was fearfully frightened i told himwho wouldnt be those kids would have scared old stalin himselfi mean frightened of more than kids they didnt look like kidswhat did they look likei tried without much success to describe the three faces a vagueimpression of viciousness and effeminacy doesnt mean muchwell i could be wrong he said finally do you know the girl whereshe livesno i half liedthe other policeman hung up his radiophone and ambled toward uskicking at the tendrils of dissipating smoke the black cloud no longerhid the dingy facades with their fiveyearold radiation flashburnsand i could begin to make out the distant stump of the empire statebuilding thrusting up out of inferno like a mangled fingerthey havent been picked up so far the approaching policemangrumbled left smoke for five blocks from what ryan saysthe first policeman shook his head thats bad he observed solemnlyi was feeling a bit uneasy and ashamed an englishman shouldnt lie atleast not on impulsethey sound like nasty customers the first policeman continued in thesame grim tone well need witnesses looks as if you may have to stayin new york longer than you expecti got the point i said i forgot to show you all my papers andhanded him a few others making sure there was a five dollar bill inamong them when he handed them back a bit later his voice was no longer ominousmy feelings of guilt vanished to cement our relationship i chattedwith the two of them about their jobi suppose the masks give you some trouble i observed over inengland weve been reading about your new crop of masked femalebanditsthose things get exaggerated the first policeman assured me itsthe men masking as women that really mix us up but brother when wenab them we jump on them with both feetand you get so you can spot women almost as well as if they had nakedfaces the second policeman volunteered you know hands and allthatespecially all that the first agreed with a chuckle say is ittrue that some girls dont mask over in englanda number of them have picked up the fashion i told him only a fewthoughthe ones who always adopt the latest style however extremetheyre usually masked in the british newscastsi imagine its arranged that way out of deference to american tastei confessed actually not very many do maskthe second policeman considered that girls going down the street barefrom the neck up it was not clear whether he viewed the prospect withrelish or moral distaste likely botha few members keep trying to persuade parliament to enact a lawforbidding all masking i continued talking perhaps a bit too muchthe second policeman shook his head what an idea you know masks area pretty good thing brother couple of years more and im going tomake my wife wear hers around the housethe first policeman shrugged if women were to stop wearing masks insix weeks you wouldnt know the difference you get used to anythingif enough people do or dont do iti agreed rather regretfully and left them i turned north on broadwayold tenth avenue i believe and walked rapidly until i was beyondinferno passing such an area of undecontaminated radioactivity alwaysmakes a person queasy i thanked god there werent any such in englandas yetthe street was almost empty though i was accosted by a couple ofbeggars with faces tunneled by hbomb scars whether real or of makeupputty i couldnt tell a fat woman held out a baby with webbed fingersand toes i told myself it would have been deformed anyway and that shewas only capitalizing on our fear of bombinduced mutations stilli gave her a sevenandahalfcent piece her mask made me feel i waspaying tribute to an african fetishmay all your children be blessed with one head and two eyes sirthanks i said shuddering and hurried past her theres only trash behind the mask so turn your head stick toyour task stay away stay awayfromthegirls this last was the end of an antisex song being sung by somereligionists half a block from the circleandcross insignia of afemalist temple they reminded me only faintly of our small tribeof british monastics above their heads was a jumble of billboardsadvertising predigested foods wrestling instruction radio handies andthe likei stared at the hysterical slogans with disagreeable fascination sincethe female face and form have been banned on american signs the veryletters of the advertisers alphabet have begun to crawl with sexthefatbellied bigbreasted capital b the lascivious double o howeveri reminded myself it is chiefly the mask that so strangely accents sexin americaa british anthropologist has pointed out that while it took morethan 5000 years to shift the chief point of sexual interest from thehips to the breasts the next transition to the face has taken lessthan 50 years comparing the american style with moslem tradition isnot valid moslem women are compelled to wear veils the purpose ofwhich is concealment while american women have only the compulsion offashion and use masks to create mysterytheory aside the actual origins of the trend are to be found inthe antiradiation clothing of world war iii which led to maskedwrestling now a fantastically popular sport and that in turn led tothe current female fashion only a wild style at first masks quicklybecame as necessary as brassieres and lipsticks had been earlier in thecenturyi finally realized that i was not speculating about masks in generalbut about what lay behind one in particular thats the devil of thethings youre never sure whether a girl is heightening lovelinessor hiding ugliness i pictured a cool pretty face in which fearshowed only in widened eyes then i remembered her blonde hair richagainst the blackness of the satin mask shed told me to come at thetwentysecond hourten pmi climbed to my apartment near the british consulate the elevatorshaft had been shoved out of plumb by an old blast a nuisance in thesetall new york buildings before it occurred to me that i would begoing out again i automatically tore a tab from the film strip undermy shirt i developed it just to be sure it showed that the totalradiation id taken that day was still within the safety limit imnot phobic about it as so many people are these days but theres nopoint in taking chancesi flopped down on the day bed and stared at the silent speaker and thedark screen of the video set as always they made me think somewhatbitterly of the two great nations of the world mutilated by eachother yet still strong they were crippled giants poisoning the planetwith their dreams of an impossible equality and an impossible successi fretfully switched on the speaker by luck the newscaster wastalking excitedly of the prospects of a bumper wheat crop sown byplanes across a dust bowl moistened by seeded rains i listenedcarefully to the rest of the program it was remarkably clear ofrussian telejamming but there was no further news of interest tome and of course no mention of the moon though everyone knowsthat america and russia are racing to develop their primary basesinto fortresses capable of mutual assault and the launching ofalphabetbombs toward earth i myself knew perfectly well that thebritish electronic equipment i was helping trade for american wheat wasdestined for use in spaceships i switched off the newscast it was growing dark and once again ipictured a tender frightened face behind a mask i hadnt had a datesince england its exceedingly difficult to become acquainted with agirl in america where as little as a smile often can set one of themyelping for the policeto say nothing of the increasing puritanicalmorality and the roving gangs that keep most women indoors after darkand naturally the masks which are definitely not as the sovietsclaim a last invention of capitalist degeneracy but a sign of greatpsychological insecurity the russians have no masks but they havetheir own signs of stressi went to the window and impatiently watched the darkness gather i wasgetting very restless after a while a ghostly violet cloud appeared tothe south my hair rose then i laughed i had momentarily fancied it aradiation from the crater of the hellbomb though i should instantlyhave known it was only the radioinduced glow in the sky over theamusement and residential area south of infernopromptly at twentytwo hours i stood before the door of my unknown girlfriends apartment the electronic saywhoplease said just that ianswered clearly wysten turner wondering if shed given my name tothe mechanism she evidently had for the door opened i walked into asmall empty living room my heart pounding a bitthe room was expensively furnished with the latest pneumatic hassocksand sprawlers there were some midgie books on the table the one ipicked up was the standard hardboiled detective story in which twofemale murderers go gunning for each otherthe television was on a masked girl in green was crooning a love songher right hand held something that blurred off into the foregroundi saw the set had a handie which we havent in england as yet andcuriously thrust my hand into the handie orifice beside the screencontrary to my expectations it was not like slipping into a pulsingrubber glove but rather as if the girl on the screen actually held myhanda door opened behind me i jerked out my hand with as guilty a reactionas if id been caught peering through a keyholeshe stood in the bedroom doorway i think she was trembling she waswearing a gray fur coat whitespeckled and a gray velvet eveningmask with shirred gray lace around the eyes and mouth her fingernailstwinkled like silverit hadnt occurred to me that shed expect us to go outi should have told you she said softly her mask veered nervouslytoward the books and the screen and the rooms dark corners but icant possibly talk to you herei said doubtfully theres a place near the consulatei know where we can be together and talk she said rapidly if youdont mindas we entered the elevator i said im afraid i dismissed the cab but the cab driver hadnt gone for some reason of his own he jumpedout and smirkingly held the front door open for us i told him wepreferred to sit in back he sulkily opened the rear door slammed itafter us jumped in front and slammed the door behind himmy companion leaned forward heaven she saidthe driver switched on the turbine and televisorwhy did you ask if i were a british subject i said to start theconversationshe leaned away from me tilting her mask close to the window see themoon she said in a quick dreamy voicebut why really i pressed conscious of an irritation that hadnothing to do with herits edging up into the purple of the skyand whats your namethe purple makes it look yellower just then i became aware of the source of my irritation it lay in thesquare of writhing light in the front of the cab beside the driveri dont object to ordinary wrestling matches though they bore me buti simply detest watching a man wrestle a woman the fact that the boutsare generally on the level with the man greatly outclassed in weightand reach and the masked females young and personable only makes themseem worse to meplease turn off the screen i requested the driverhe shook his head without looking around uhuh man he saidtheyve been grooming that babe for weeks for this bout with littlezirkinfuriated i reached forward but my companion caught my armplease she whispered frightenedly shaking her headi settled back frustrated she was closer to me now but silent andfor a few moments i watched the heaves and contortions of the powerfulmasked girl and her wiry masked opponent on the screen his franticscrambling at her reminded me of a male spideri jerked around facing my companion why did those three men want tokill you i asked sharplythe eyeholes of her mask faced the screen because theyre jealous ofme she whisperedwhy are they jealousshe still didnt look at me because of himwhoshe didnt answeri put my arm around her shoulders are you afraid to tell me iasked what is the mattershe still didnt look my way she smelled nicesee here i said laughingly changing my tactics you really shouldtell me something about yourself i dont even know what you look likei half playfully lifted my hand to the band of her neck she gave it anastonishingly swift slap i pulled it away in sudden pain there werefour tiny indentations on the back from one of them a tiny bead ofblood welled out as i watched i looked at her silver fingernails andsaw they were actually delicate and pointed metal capsim dreadfully sorry i heard her say but you frightened me ithought for a moment you were going toat last she turned to me her coat had fallen open her evening dresswas cretan revival a bodice of lace beneath and supporting the breastswithout covering themdont be angry she said putting her arms around my neck you werewonderful this afternoonthe soft gray velvet of her mask molding itself to her cheek pressedmine through the masks lace the wet warm tip of her tongue touched mychinim not angry i said just puzzled and anxious to helpthe cab stopped to either side were black windows bordered by spearsof broken glass the sickly purple light showed a few ragged figuresslowly moving toward usthe driver muttered its the turbine man were grounded he satthere hunched and motionless wish it had happened somewhere elsemy companion whispered five dollars is the usual amountshe looked out so shudderingly at the congregating figures that isuppressed my indignation and did as she suggested the driver took thebill without a word as he started up he put his hand out the windowand i heard a few coins clink on the pavementmy companion came back into my arms but her mask faced the televisionscreen where the tall girl had just pinned the convulsively kickinglittle zirkim so frightened she breathed heaven turned out to be an equally ruinous neighborhood but it had aclub with an awning and a huge doorman uniformed like a spaceman butin gaudy colors in my sensuous daze i rather liked it all we steppedout of the cab just as a drunken old woman came down the sidewalkher mask awry a couple ahead of us turned their heads from the halfrevealed face as if from an ugly body at the beach as we followedthem in i heard the doorman say get along grandma and watchyourselfinside everything was dimness and blue glows she had said we couldtalk here but i didnt see how besides the inevitable chorus ofsneezes and coughs they say america is fifty per cent allergicthese days there was a band going full blast in the latest robopstyle in which an electronic composing machine selects an arbitrarysequence of tones into which the musicians weave their raucous littleindividualitiesmost of the people were in booths the band was behind the bar on asmall platform beside them a girl was dancing stripped to her maskthe little cluster of men at the shadowy far end of the bar werentlooking at herwe inspected the menu in gold script on the wall and pushed the buttonsfor breast of chicken fried shrimps and two scotches moments laterthe serving bell tinkled i opened the gleaming panel and took out ourdrinks the cluster of men at the bar filed off toward the door but first theystared around the room my companion had just thrown back her coattheir look lingered on our booth i noticed that there were three ofthemthe band chased off the dancing girl with growls i handed my companiona straw and we sipped our drinksyou wanted me to help you about something i said incidentally ithink youre lovelyshe nodded quick thanks looked around leaned forward would it behard for me to get to englandno i replied a bit taken aback provided you have an americanpassportare they difficult to getrather i said surprised at her lack of information your countrydoesnt like its nationals to travel though it isnt quite asstringent as russiacould the british consulate help me get a passportits hardly theircould youi realized we were being inspected a man and two girls had pausedopposite our table the girls were tall and wolfishlooking withspangled masks the man stood jauntily between them like a fox on itshind legsmy companion didnt glance at them but she sat back i noticed thatone of the girls had a big yellow bruise on her forearm after a momentthey walked to a booth in the deep shadowsknow them i asked she didnt reply i finished my drink im notsure youd like england i said the austeritys altogether differentfrom your american brand of miseryshe leaned forward again but i must get away she whisperedwhy i was getting impatientbecause im so frightenedthere were chimes i opened the panel and handed her the fried shrimpsthe sauce on my breast of chicken was a delicious steaming compound ofalmonds soy and ginger but something must have been wrong with theradionic oven that had thawed and heated it for at the first bite icrunched a kernel of ice in the meat these delicate mechanisms needconstant repair and there arent enough mechanicsi put down my fork what are you really scared of i asked herfor once her mask didnt waver away from my face as i waited icould feel the fears gathering without her naming them tiny darkshapes swarming through the curved night outside converging on theradioactive pest spot of new york dipping into the margins of thepurple i felt a sudden rush of sympathy a desire to protect thegirl opposite me the warm feeling added itself to the infatuationengendered in the cabeverything she said finallyi nodded and touched her handim afraid of the moon she began her voice going dreamy and brittleas it had in the cab you cant look at it and not think of guidedbombsits the same moon over england i reminded herbut its not englands moon any more its ours and russias yourenot responsiblei pressed her handoh and then she said with a tilt of her mask im afraid of thecars and the gangs and the loneliness and inferno im afraid of thelust that undresses your face and her voice hushedim afraid ofthe wrestlersyes i prompted softly after a moment her mask came forward do you know something about the wrestlers sheasked rapidly the ones that wrestle women i mean they often loseyou know and then they have to have a girl to take their frustrationout on a girl whos soft and weak and terribly frightened they needthat to keep them men other men dont want them to have a girlother men want them just to fight women and be heroes but they musthave a girl its horrible for heri squeezed her fingers tighter as if courage could betransmittedgranting i had any i think i can get you to england isaidshadows crawled onto the table and stayed there i looked up at thethree men who had been at the end of the bar they were the men i hadseen in the big coupe they wore black sweaters and closefitting blacktrousers their faces were as expressionless as dopers two of themstood above me the other loomed over the girldrift off man i was told i heard the other inform the girlwell wrestle a fall sister what shall it be judo slapsie orkillwhocani stood up there are times when an englishman simply must bemaltreated but just then the foxlike man came gliding in like thestar of a ballet the reaction of the other three startled me theywere acutely embarrassedhe smiled at them thinly you wont win my favor by tricks like thishe saiddont get the wrong idea zirk one of them pleadedi will if its right he said she told me what you tried to do thisafternoon that wont endear you to me either driftthey backed off awkwardly lets get out of here one of them saidloudly as they turned i know a place where they fight naked withknives little zirk laughed musically and slipped into the seat beside mycompanion she shrank from him just a little i pushed my feet backleaned forwardwhos your friend baby he asked not looking at hershe passed the question to me with a little gesture i told himbritish he observed shes been asking you about getting out of thecountry about passports he smiled pleasantly she likes to startrunning away dont you baby his small hand began to stroke herwrist the fingers bent a little the tendons ridged as if he wereabout to grab and twistlook here i said sharply i have to be grateful to you for orderingoff those bullies butthink nothing of it he told me theyre no harm except when theyrebehind steering wheels a welltrained fourteenyearold girl couldcripple any one of them why even theda here if she went in for thatsort of thing he turned to her shifting his hand from her wristto her hair he stroked it letting the strands slip slowly through hisfingers you know i lost tonight baby dont you he said softlyi stood up come along i said to her lets leave she just sat there i couldnt even tell if she was trembling i triedto read a message in her eyes through the maskill take you away i said to her i can do it i really willhe smiled at me shed like to go with you he said wouldnt youbabywill you or wont you i said to her she still just sat therehe slowly knotted his fingers in her hairlisten you little vermin i snapped at him take your hands offherhe came up from the seat like a snake im no fighter i just know thatthe more scared i am the harder and straighter i hit this time i waslucky but as he crumpled back i felt a slap and four stabs of pain inmy cheek i clapped my hand to it i could feel the four gashes made byher dagger finger caps and the warm blood oozing out from themshe didnt look at me she was bending over little zirk and cuddlingher mask to his cheek and crooning there there dont feel badyoull be able to hurt me afterwardthere were sounds around us but they didnt come close i leanedforward and ripped the mask from her facei really dont know why i should have expected her face to be anythingelse it was very pale of course and there werent any cosmetics isuppose theres no point in wearing any under a mask the eyebrowswere untidy and the lips chapped but as for the general expression asfor the feelings crawling and wriggling across ithave you ever lifted a rock from damp soil have you ever watched theslimy white grubsi looked down at her she up at me yes youre so frightened arentyou i said sarcastically you dread this little nightly drama dontyou youre scared to deathand i walked right out into the purple night still holding my handto my bleeding cheek no one stopped me not even the girl wrestlersi wished i could tear a tab from under my shirt and test it then andthere and find id taken too much radiation and so be able to ask tocross the hudson and go down new jersey past the lingering radiance ofthe narrows bomb and so on to sandy hook to wait for the rusty shipthat would take me back over the seas to englandend of the project gutenberg ebook of coming attraction by fritz leiber'"
      ]
     },
     "execution_count": 7,
     "metadata": {},
     "output_type": "execute_result"
    }
   ],
   "source": [
    "story_arrays[0]"
   ]
  },
  {
   "cell_type": "markdown",
   "metadata": {},
   "source": [
    "Writing the processed data into a csv file"
   ]
  },
  {
   "cell_type": "code",
   "execution_count": 8,
   "metadata": {},
   "outputs": [],
   "source": [
    "processed_data = open('archive/processed_data.csv','w')"
   ]
  },
  {
   "cell_type": "code",
   "execution_count": 9,
   "metadata": {},
   "outputs": [],
   "source": [
    "for story in story_arrays:\n",
    "    processed_data.write(story+'\\n')"
   ]
  },
  {
   "cell_type": "markdown",
   "metadata": {},
   "source": [
    "Building a simple rnn to predict next word from set of 5 previous words"
   ]
  },
  {
   "cell_type": "code",
   "execution_count": 10,
   "metadata": {},
   "outputs": [
    {
     "name": "stderr",
     "output_type": "stream",
     "text": [
      "2025-02-24 09:35:54.363591: E external/local_xla/xla/stream_executor/cuda/cuda_fft.cc:477] Unable to register cuFFT factory: Attempting to register factory for plugin cuFFT when one has already been registered\n",
      "WARNING: All log messages before absl::InitializeLog() is called are written to STDERR\n",
      "E0000 00:00:1740369954.372824   72634 cuda_dnn.cc:8310] Unable to register cuDNN factory: Attempting to register factory for plugin cuDNN when one has already been registered\n",
      "E0000 00:00:1740369954.375817   72634 cuda_blas.cc:1418] Unable to register cuBLAS factory: Attempting to register factory for plugin cuBLAS when one has already been registered\n",
      "2025-02-24 09:35:54.387027: I tensorflow/core/platform/cpu_feature_guard.cc:210] This TensorFlow binary is optimized to use available CPU instructions in performance-critical operations.\n",
      "To enable the following instructions: AVX2 FMA, in other operations, rebuild TensorFlow with the appropriate compiler flags.\n"
     ]
    }
   ],
   "source": [
    "import tensorflow as tf\n",
    "import numpy as np\n",
    "from tensorflow.keras.preprocessing.text import Tokenizer\n",
    "from tensorflow.keras.preprocessing.sequence import pad_sequences\n",
    "\n",
    "\n",
    "file = open('archive/processed_data.csv')\n",
    "stories = []\n",
    "num_of_stories = 4\n",
    "for story in file:\n",
    "    stories.append(story)\n",
    "    num_of_stories -= 1\n",
    "    if num_of_stories == 0:\n",
    "        break\n",
    "\n",
    "\n",
    "# initialize a tokenizer to convert words into integer tokens\n",
    "tokenizer = Tokenizer()\n",
    "tokenizer.fit_on_texts(stories)\n",
    "\n",
    "# get the word-to_index dictionary\n",
    "word_index = tokenizer.word_index"
   ]
  },
  {
   "cell_type": "code",
   "execution_count": 11,
   "metadata": {},
   "outputs": [
    {
     "name": "stdout",
     "output_type": "stream",
     "text": [
      "12322\n"
     ]
    }
   ],
   "source": [
    "print(len(word_index))"
   ]
  },
  {
   "cell_type": "code",
   "execution_count": 12,
   "metadata": {},
   "outputs": [
    {
     "name": "stderr",
     "output_type": "stream",
     "text": [
      "I0000 00:00:1740369962.543628   72634 gpu_device.cc:2022] Created device /job:localhost/replica:0/task:0/device:GPU:0 with 2278 MB memory:  -> device: 0, name: NVIDIA GeForce RTX 3050 Laptop GPU, pci bus id: 0000:01:00.0, compute capability: 8.6\n"
     ]
    },
    {
     "data": {
      "text/html": [
       "<pre style=\"white-space:pre;overflow-x:auto;line-height:normal;font-family:Menlo,'DejaVu Sans Mono',consolas,'Courier New',monospace\"><span style=\"font-weight: bold\">Model: \"sequential\"</span>\n",
       "</pre>\n"
      ],
      "text/plain": [
       "\u001b[1mModel: \"sequential\"\u001b[0m\n"
      ]
     },
     "metadata": {},
     "output_type": "display_data"
    },
    {
     "data": {
      "text/html": [
       "<pre style=\"white-space:pre;overflow-x:auto;line-height:normal;font-family:Menlo,'DejaVu Sans Mono',consolas,'Courier New',monospace\">┏━━━━━━━━━━━━━━━━━━━━━━━━━━━━━━━━━┳━━━━━━━━━━━━━━━━━━━━━━━━┳━━━━━━━━━━━━━━━┓\n",
       "┃<span style=\"font-weight: bold\"> Layer (type)                    </span>┃<span style=\"font-weight: bold\"> Output Shape           </span>┃<span style=\"font-weight: bold\">       Param # </span>┃\n",
       "┡━━━━━━━━━━━━━━━━━━━━━━━━━━━━━━━━━╇━━━━━━━━━━━━━━━━━━━━━━━━╇━━━━━━━━━━━━━━━┩\n",
       "│ embedding (<span style=\"color: #0087ff; text-decoration-color: #0087ff\">Embedding</span>)           │ ?                      │   <span style=\"color: #00af00; text-decoration-color: #00af00\">0</span> (unbuilt) │\n",
       "├─────────────────────────────────┼────────────────────────┼───────────────┤\n",
       "│ simple_rnn (<span style=\"color: #0087ff; text-decoration-color: #0087ff\">SimpleRNN</span>)          │ ?                      │   <span style=\"color: #00af00; text-decoration-color: #00af00\">0</span> (unbuilt) │\n",
       "├─────────────────────────────────┼────────────────────────┼───────────────┤\n",
       "│ dense (<span style=\"color: #0087ff; text-decoration-color: #0087ff\">Dense</span>)                   │ ?                      │   <span style=\"color: #00af00; text-decoration-color: #00af00\">0</span> (unbuilt) │\n",
       "└─────────────────────────────────┴────────────────────────┴───────────────┘\n",
       "</pre>\n"
      ],
      "text/plain": [
       "┏━━━━━━━━━━━━━━━━━━━━━━━━━━━━━━━━━┳━━━━━━━━━━━━━━━━━━━━━━━━┳━━━━━━━━━━━━━━━┓\n",
       "┃\u001b[1m \u001b[0m\u001b[1mLayer (type)                   \u001b[0m\u001b[1m \u001b[0m┃\u001b[1m \u001b[0m\u001b[1mOutput Shape          \u001b[0m\u001b[1m \u001b[0m┃\u001b[1m \u001b[0m\u001b[1m      Param #\u001b[0m\u001b[1m \u001b[0m┃\n",
       "┡━━━━━━━━━━━━━━━━━━━━━━━━━━━━━━━━━╇━━━━━━━━━━━━━━━━━━━━━━━━╇━━━━━━━━━━━━━━━┩\n",
       "│ embedding (\u001b[38;5;33mEmbedding\u001b[0m)           │ ?                      │   \u001b[38;5;34m0\u001b[0m (unbuilt) │\n",
       "├─────────────────────────────────┼────────────────────────┼───────────────┤\n",
       "│ simple_rnn (\u001b[38;5;33mSimpleRNN\u001b[0m)          │ ?                      │   \u001b[38;5;34m0\u001b[0m (unbuilt) │\n",
       "├─────────────────────────────────┼────────────────────────┼───────────────┤\n",
       "│ dense (\u001b[38;5;33mDense\u001b[0m)                   │ ?                      │   \u001b[38;5;34m0\u001b[0m (unbuilt) │\n",
       "└─────────────────────────────────┴────────────────────────┴───────────────┘\n"
      ]
     },
     "metadata": {},
     "output_type": "display_data"
    },
    {
     "data": {
      "text/html": [
       "<pre style=\"white-space:pre;overflow-x:auto;line-height:normal;font-family:Menlo,'DejaVu Sans Mono',consolas,'Courier New',monospace\"><span style=\"font-weight: bold\"> Total params: </span><span style=\"color: #00af00; text-decoration-color: #00af00\">0</span> (0.00 B)\n",
       "</pre>\n"
      ],
      "text/plain": [
       "\u001b[1m Total params: \u001b[0m\u001b[38;5;34m0\u001b[0m (0.00 B)\n"
      ]
     },
     "metadata": {},
     "output_type": "display_data"
    },
    {
     "data": {
      "text/html": [
       "<pre style=\"white-space:pre;overflow-x:auto;line-height:normal;font-family:Menlo,'DejaVu Sans Mono',consolas,'Courier New',monospace\"><span style=\"font-weight: bold\"> Trainable params: </span><span style=\"color: #00af00; text-decoration-color: #00af00\">0</span> (0.00 B)\n",
       "</pre>\n"
      ],
      "text/plain": [
       "\u001b[1m Trainable params: \u001b[0m\u001b[38;5;34m0\u001b[0m (0.00 B)\n"
      ]
     },
     "metadata": {},
     "output_type": "display_data"
    },
    {
     "data": {
      "text/html": [
       "<pre style=\"white-space:pre;overflow-x:auto;line-height:normal;font-family:Menlo,'DejaVu Sans Mono',consolas,'Courier New',monospace\"><span style=\"font-weight: bold\"> Non-trainable params: </span><span style=\"color: #00af00; text-decoration-color: #00af00\">0</span> (0.00 B)\n",
       "</pre>\n"
      ],
      "text/plain": [
       "\u001b[1m Non-trainable params: \u001b[0m\u001b[38;5;34m0\u001b[0m (0.00 B)\n"
      ]
     },
     "metadata": {},
     "output_type": "display_data"
    }
   ],
   "source": [
    "# Define the model\n",
    "model = tf.keras.Sequential([\n",
    "    tf.keras.layers.Embedding(input_dim=len(word_index)+1, output_dim=50),\n",
    "    tf.keras.layers.SimpleRNN(units=100, return_sequences=False),\n",
    "    tf.keras.layers.Dense(len(word_index)+1, activation='softmax')\n",
    "])\n",
    "\n",
    "# Compile the model\n",
    "model.compile(optimizer='adam', loss='categorical_crossentropy', metrics=['accuracy'])\n",
    "\n",
    "# Print the summary of the model\n",
    "model.summary()"
   ]
  },
  {
   "cell_type": "code",
   "execution_count": 13,
   "metadata": {},
   "outputs": [
    {
     "name": "stdout",
     "output_type": "stream",
     "text": [
      "Epoch 1/20\n"
     ]
    },
    {
     "ename": "",
     "evalue": "",
     "output_type": "error",
     "traceback": [
      "\u001b[1;31mThe Kernel crashed while executing code in the current cell or a previous cell. \n",
      "\u001b[1;31mPlease review the code in the cell(s) to identify a possible cause of the failure. \n",
      "\u001b[1;31mClick <a href='https://aka.ms/vscodeJupyterKernelCrash'>here</a> for more info. \n",
      "\u001b[1;31mView Jupyter <a href='command:jupyter.viewOutput'>log</a> for further details."
     ]
    }
   ],
   "source": [
    "for story in stories:\n",
    "  # convert the stories to sequences of word indices\n",
    "  sequences = tokenizer.texts_to_sequences([story])\n",
    "\n",
    "  # create input output pairs 5 words as input next word as output\n",
    "  x=[]\n",
    "  y=[]\n",
    "  for seq in sequences:\n",
    "    for i in range(5,len(seq)):\n",
    "      x.append(seq[i-5:i])\n",
    "      y.append(seq[i])\n",
    "  # convert to numpy arrays\n",
    "  x = np.array(x)\n",
    "  y = np.array(y)\n",
    "\n",
    "  # pad sequences if necessary\n",
    "  x = pad_sequences(x, maxlen=5, padding='pre')\n",
    "\n",
    "  # one hot encode the target labels(y)\n",
    "  y = tf.keras.utils.to_categorical(y, num_classes=len(word_index) + 1)\n",
    "\n",
    "  # training the model\n",
    "  model.fit(x,y,epochs=20, batch_size=32)\n",
    "\n",
    "  del x\n",
    "  del y"
   ]
  },
  {
   "cell_type": "code",
   "execution_count": null,
   "metadata": {},
   "outputs": [
    {
     "data": {
      "text/plain": [
       "1923167"
      ]
     },
     "execution_count": 12,
     "metadata": {},
     "output_type": "execute_result"
    }
   ],
   "source": [
    "# Assuming 'model' and 'tokenizer' are defined from the previous code.\n",
    "# Also assuming 'word_index' is available.\n",
    "\n",
    "def predict_next_word(seed_text):\n",
    "    \"\"\"Predicts the next word based on the input seed text.\"\"\"\n",
    "\n",
    "    token_list = tokenizer.texts_to_sequences([seed_text])[0]\n",
    "    token_list = pad_sequences([token_list], maxlen=5, padding='pre')\n",
    "    predicted = np.argmax(model.predict(token_list), axis=-1)\n",
    "\n",
    "    for word, index in word_index.items():\n",
    "        if index == predicted:\n",
    "            return word\n",
    "    return None  # Return None if no matching word is found\n",
    "\n",
    "\n",
    "# Example usage\n",
    "seed_text = \"plumb by an old blast\"\n",
    "predicted_word = predict_next_word(seed_text)\n",
    "print(f\"Seed text: {seed_text}\")\n",
    "print(f\"Predicted next word: {predicted_word}\")"
   ]
  },
  {
   "cell_type": "code",
   "execution_count": null,
   "metadata": {},
   "outputs": [
    {
     "data": {
      "text/plain": [
       "1923167"
      ]
     },
     "execution_count": 13,
     "metadata": {},
     "output_type": "execute_result"
    }
   ],
   "source": [
    "#prdicting the next 50 words\n",
    "seed_text = \"plumb by an old blast\"\n",
    "text = \"plumb by an old blast\"\n",
    "next_word = ''\n",
    "for i in range(50):\n",
    "  next_word = predict_next_word(seed_text)\n",
    "  seed_text = ' '.join(seed_text.split(' ')[1:])\n",
    "  seed_text += ' ' + next_word\n",
    "  text += ' ' + next_word\n",
    "\n",
    "print(text)"
   ]
  }
 ],
 "metadata": {
  "kernelspec": {
   "display_name": "venv",
   "language": "python",
   "name": "python3"
  },
  "language_info": {
   "codemirror_mode": {
    "name": "ipython",
    "version": 3
   },
   "file_extension": ".py",
   "mimetype": "text/x-python",
   "name": "python",
   "nbconvert_exporter": "python",
   "pygments_lexer": "ipython3",
   "version": "3.11.11"
  }
 },
 "nbformat": 4,
 "nbformat_minor": 2
}
